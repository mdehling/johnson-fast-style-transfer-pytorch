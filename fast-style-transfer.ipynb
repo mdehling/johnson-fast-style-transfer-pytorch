{
 "cells": [
  {
   "cell_type": "markdown",
   "metadata": {},
   "source": [
    "# Fast Style Transfer\n",
    "[![Open In Colab](https://colab.research.google.com/assets/colab-badge.svg)](https://colab.research.google.com/github/mdehling/johnson-fast-style-transfer-pytorch/blob/main/fast-style-transfer.ipynb)\n",
    "\n",
    "This notebook lets you try out image stylization using the approach described by Johnson, Alahi, and Fei-Fei in their article _Perceptual Losses for Real-Time Style Transfer and Super-Resolution_. For more details, see my github repository [`johnson-fast-style-transfer-pytorch`](https://github.com/mdehling/johnson-fast-style-transfer-pytorch)."
   ]
  },
  {
   "cell_type": "code",
   "execution_count": null,
   "metadata": {},
   "outputs": [],
   "source": [
    "import requests\n",
    "from IPython.display import display\n",
    "from PIL import Image\n",
    "\n",
    "import torch\n",
    "from torchvision.transforms.functional import to_tensor, to_pil_image"
   ]
  },
  {
   "cell_type": "code",
   "execution_count": null,
   "metadata": {},
   "outputs": [],
   "source": [
    "GH_REPO = 'mdehling/johnson-fast-style-transfer-pytorch'\n",
    "GH_BRANCH = 'main'"
   ]
  },
  {
   "cell_type": "code",
   "execution_count": null,
   "metadata": {},
   "outputs": [],
   "source": [
    "def load_image(image_file):\n",
    "    \"\"\"Load an image, either locally or transparently from the github repo.\"\"\"\n",
    "    try:\n",
    "        image = Image.open(image_file)\n",
    "    except FileNotFoundError:\n",
    "        url = f'https://github.com/{GH_REPO}/raw/{GH_BRANCH}/{image_file}'\n",
    "        image = Image.open(requests.get(url, stream=True).raw)\n",
    "    return to_tensor(image).unsqueeze(0)\n",
    "\n",
    "def show_image(image_tensor):\n",
    "    \"\"\"Display an image tensor inline in the notebook.\"\"\"\n",
    "    image = to_pil_image(image_tensor.squeeze(0))\n",
    "    display(image)"
   ]
  },
  {
   "cell_type": "markdown",
   "metadata": {},
   "source": [
    "## Simple Image Stylization\n",
    "The torch hub help function shows the entrypoint's docstring in which we list the available pre-trained styles."
   ]
  },
  {
   "cell_type": "code",
   "execution_count": null,
   "metadata": {},
   "outputs": [],
   "source": [
    "%%capture --no-stdout\n",
    "print( torch.hub.help(GH_REPO, 'johnson2016', trust_repo=True) )"
   ]
  },
  {
   "cell_type": "markdown",
   "metadata": {},
   "source": [
    "Choose one of the listed styles and pick a content image.  The content image can be either a local file or a path relative to the root of the github repository."
   ]
  },
  {
   "cell_type": "code",
   "execution_count": null,
   "metadata": {},
   "outputs": [],
   "source": [
    "model = torch.hub.load(GH_REPO, 'johnson2016', style='delaunay')\n",
    "content_image = load_image('img/content/karya.jpg')\n",
    "\n",
    "pastiche_image = model(content_image)\n",
    "show_image(pastiche_image)"
   ]
  }
 ],
 "metadata": {
  "kernelspec": {
   "display_name": "Python 3",
   "language": "python",
   "name": "python3"
  },
  "language_info": {
   "codemirror_mode": {
    "name": "ipython",
    "version": 3
   },
   "file_extension": ".py",
   "mimetype": "text/x-python",
   "name": "python",
   "nbconvert_exporter": "python",
   "pygments_lexer": "ipython3",
   "version": "3.10.13"
  }
 },
 "nbformat": 4,
 "nbformat_minor": 2
}
