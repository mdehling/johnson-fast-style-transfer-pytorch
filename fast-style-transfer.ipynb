{
 "cells": [
  {
   "cell_type": "markdown",
   "metadata": {},
   "source": [
    "# Fast Style Transfer\n",
    "[![Open In Colab](https://colab.research.google.com/assets/colab-badge.svg)](https://colab.research.google.com/github/mdehling/johnson-fast-style-transfer-pytorch/blob/main/fast-style-transfer.ipynb)\n",
    "\n",
    "This notebook lets you try out image stylization using the approach described by Johnson, Alahi, and Fei-Fei in their article _Perceptual Losses for Real-Time Style Transfer and Super-Resolution_. For more details, see my github repository [`johnson-fast-style-transfer-pytorch`](https://github.com/mdehling/johnson-fast-style-transfer-pytorch)."
   ]
  },
  {
   "cell_type": "code",
   "execution_count": null,
   "metadata": {},
   "outputs": [],
   "source": [
    "try:\n",
    "    from google import colab\n",
    "\n",
    "    # Pull everything else from the repository in to the Colab environment.\n",
    "    !git config --global init.defaultBranch main\n",
    "    !git init .\n",
    "    !git remote add origin https://github.com/mdehling/johnson-fast-style-transfer-pytorch.git\n",
    "    !git pull --depth=1 origin main\n",
    "\n",
    "    # Install any additional requirements.\n",
    "    #!pip install -q -r requirements-colab.txt\n",
    "\n",
    "except ImportError:\n",
    "    pass"
   ]
  },
  {
   "cell_type": "code",
   "execution_count": null,
   "metadata": {},
   "outputs": [],
   "source": [
    "from IPython.display import display\n",
    "\n",
    "import torch\n",
    "from torchvision.transforms.functional import to_pil_image\n",
    "from nst.io import load_image, save_image"
   ]
  },
  {
   "cell_type": "markdown",
   "metadata": {},
   "source": [
    "## Simple Image Stylization"
   ]
  },
  {
   "cell_type": "code",
   "execution_count": null,
   "metadata": {},
   "outputs": [],
   "source": [
    "RUN = '2023-10-01/19-39-01'\n",
    "\n",
    "def get_model(style):\n",
    "    return torch.load(\n",
    "        f\"multirun/{RUN}/style_image={style}.jpg/model.pth\"\n",
    "    ).eval().to(device='cpu')"
   ]
  },
  {
   "cell_type": "code",
   "execution_count": null,
   "metadata": {},
   "outputs": [],
   "source": [
    "def show_image(image_tensor):\n",
    "    display(to_pil_image(image_tensor.squeeze(0)))"
   ]
  },
  {
   "cell_type": "code",
   "execution_count": null,
   "metadata": {},
   "outputs": [],
   "source": [
    "# pre-trained models available:\n",
    "# starry-night, bathing, cubism, delaunay, udnie, scream, candy.\n",
    "model = get_model('delaunay')\n",
    "\n",
    "content_image = load_image('img/content/karya.jpg')\n",
    "pastiche_image = model(content_image)\n",
    "\n",
    "show_image(pastiche_image)"
   ]
  }
 ],
 "metadata": {
  "kernelspec": {
   "display_name": "Python 3",
   "language": "python",
   "name": "python3"
  },
  "language_info": {
   "codemirror_mode": {
    "name": "ipython",
    "version": 3
   },
   "file_extension": ".py",
   "mimetype": "text/x-python",
   "name": "python",
   "nbconvert_exporter": "python",
   "pygments_lexer": "ipython3",
   "version": "3.10.13"
  }
 },
 "nbformat": 4,
 "nbformat_minor": 2
}
