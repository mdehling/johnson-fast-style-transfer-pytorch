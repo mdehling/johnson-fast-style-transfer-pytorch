{
 "cells": [
  {
   "cell_type": "markdown",
   "metadata": {},
   "source": [
    "# Fast Style Transfer\n",
    "[![Open In Colab](https://colab.research.google.com/assets/colab-badge.svg)](https://colab.research.google.com/github/mdehling/johnson-fast-style-transfer-pytorch/blob/main/fast-style-transfer.ipynb)\n",
    "\n",
    "This notebook lets you try out image stylization using the approach described by Johnson, Alahi, and Fei-Fei in their article _Perceptual Losses for Real-Time Style Transfer and Super-Resolution_. For more details, see my github repository [`johnson-fast-style-transfer-pytorch`](https://github.com/mdehling/johnson-fast-style-transfer-pytorch)."
   ]
  },
  {
   "cell_type": "code",
   "execution_count": null,
   "metadata": {},
   "outputs": [],
   "source": [
    "from IPython.display import display\n",
    "\n",
    "import torch\n",
    "from torchvision.transforms.functional import to_tensor, to_pil_image\n",
    "\n",
    "from PIL import Image"
   ]
  },
  {
   "cell_type": "code",
   "execution_count": null,
   "metadata": {},
   "outputs": [],
   "source": [
    "GH_REPO = 'mdehling/johnson-fast-style-transfer-pytorch'"
   ]
  },
  {
   "cell_type": "markdown",
   "metadata": {},
   "source": [
    "## Simple Image Stylization"
   ]
  },
  {
   "cell_type": "code",
   "execution_count": null,
   "metadata": {},
   "outputs": [],
   "source": [
    "def load_image(image_file):\n",
    "    image = Image.open(image_file)\n",
    "    return to_tensor(image).unsqueeze(0)\n",
    "\n",
    "def show_image(image_tensor):\n",
    "    image = to_pil_image(image_tensor.squeeze(0))\n",
    "    display(image)"
   ]
  },
  {
   "cell_type": "code",
   "execution_count": null,
   "metadata": {},
   "outputs": [],
   "source": [
    "# pre-trained models available:\n",
    "# starry-night, bathing, cubism, delaunay, udnie, scream, candy.\n",
    "model = torch.hub.load(GH_REPO, 'johnson2016', style='udnie')\n",
    "\n",
    "content_image = load_image('img/content/karya.jpg')\n",
    "pastiche_image = model(content_image)\n",
    "\n",
    "show_image(pastiche_image)"
   ]
  }
 ],
 "metadata": {
  "kernelspec": {
   "display_name": "Python 3",
   "language": "python",
   "name": "python3"
  },
  "language_info": {
   "codemirror_mode": {
    "name": "ipython",
    "version": 3
   },
   "file_extension": ".py",
   "mimetype": "text/x-python",
   "name": "python",
   "nbconvert_exporter": "python",
   "pygments_lexer": "ipython3",
   "version": "3.10.13"
  }
 },
 "nbformat": 4,
 "nbformat_minor": 2
}
